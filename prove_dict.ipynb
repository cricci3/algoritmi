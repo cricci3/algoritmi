{
 "cells": [
  {
   "cell_type": "code",
   "execution_count": 1,
   "metadata": {
    "collapsed": true
   },
   "outputs": [
    {
     "name": "stdout",
     "output_type": "stream",
     "text": [
      "['sopra', 'la', 'panca', 'la', 'capra', 'campa', 'sotto', 'la', 'panca', 'la', 'capra', 'crepa']\n"
     ]
    }
   ],
   "source": [
    "frase = \"sopra la panca la capra campa sotto la panca la capra crepa\"\n",
    "frase = frase.split()\n",
    "print(frase)"
   ]
  },
  {
   "cell_type": "code",
   "execution_count": 2,
   "outputs": [],
   "source": [
    "# dizionario_coppie = {}\n",
    "# for i in range(len(frase)):\n",
    "#     for j in range(i+1, len(frase)):\n",
    "#         p1 = frase[i]\n",
    "#         p2 = frase[j]\n",
    "#         distanza = abs(i - j)\n",
    "#         if str(p1) != str(p2):\n",
    "#             if distanza <= 3:\n",
    "#                 # Check if the pair already exists in the dictionary\n",
    "#                 if not ((p1, p2) in dizionario_coppie.keys() or (p2, p1) in dizionario_coppie.keys()):\n",
    "#                     dizionario_coppie[(p1, p2)] = distanza\n",
    "#                 # Update distance if the pair exists with a greater distance\n",
    "#                 else:\n",
    "#                     if (p1, p2) in dizionario_coppie.keys() and dizionario_coppie[(p1, p2)] > distanza:\n",
    "#                         dizionario_coppie[(p1, p2)] = distanza\n",
    "#                     elif (p2, p1) in dizionario_coppie.keys() and dizionario_coppie[(p2, p1)] > distanza:\n",
    "#                         dizionario_coppie[(p2, p1)] = distanza\n",
    "# print(dizionario_coppie)\n",
    "# distanza1, distanza2, distanza3 = 0, 0, 0\n",
    "#\n",
    "# for coppia in dizionario_coppie:\n",
    "#     distanza = dizionario_coppie[coppia]\n",
    "#     if distanza == 1:\n",
    "#         distanza1 += 1\n",
    "#     elif distanza == 2:\n",
    "#         distanza2 += 1\n",
    "#     elif distanza == 3:\n",
    "#         distanza3 += 1\n",
    "#\n",
    "# print(distanza1, distanza2, distanza3)\n",
    "# print(f'{distanza1} coppie a distanza 1')\n",
    "# print(f'{distanza2} coppie a distanza 3')\n",
    "# print(f'{distanza3} coppie a distanza 3')"
   ],
   "metadata": {
    "collapsed": false
   }
  },
  {
   "cell_type": "code",
   "execution_count": 3,
   "outputs": [],
   "source": [
    "array_coppie = []\n",
    "\n",
    "for i in range(len(frase)):\n",
    "    for j in range(i + 1, len(frase)):\n",
    "        p1 = frase[i]\n",
    "        p2 = frase[j]\n",
    "        distanza = abs(i - j)\n",
    "        if str(p1) != str(p2):\n",
    "            if distanza <= 3:\n",
    "                coppia_presente = False\n",
    "                for coppia in array_coppie:\n",
    "                    if (coppia[0] == p1 and coppia[1] == p2) or (coppia[0] == p2 and coppia[1] == p1):\n",
    "                        coppia_presente = True\n",
    "                        break\n",
    "                if not coppia_presente:\n",
    "                    array_coppie.append((p1, p2, distanza))\n",
    "                else:\n",
    "                    for k in range(len(array_coppie)):\n",
    "                        if (array_coppie[k][0] == p1 and array_coppie[k][1] == p2) or (array_coppie[k][0] == p2 and array_coppie[k][1] == p1):\n",
    "                            if array_coppie[k][2] > distanza:\n",
    "                                array_coppie[k] = (p1, p2, distanza)\n",
    "                            break"
   ],
   "metadata": {
    "collapsed": false
   }
  },
  {
   "cell_type": "code",
   "execution_count": 4,
   "outputs": [
    {
     "name": "stdout",
     "output_type": "stream",
     "text": [
      "[('sopra', 'la', 1), ('sopra', 'panca', 2), ('la', 'panca', 1), ('la', 'capra', 1), ('panca', 'capra', 2), ('panca', 'campa', 3), ('la', 'campa', 2), ('sotto', 'la', 1), ('capra', 'campa', 1), ('capra', 'sotto', 2), ('campa', 'sotto', 1), ('sotto', 'panca', 2), ('panca', 'crepa', 3), ('la', 'crepa', 2), ('capra', 'crepa', 1)]\n"
     ]
    }
   ],
   "source": [
    "print(array_coppie)"
   ],
   "metadata": {
    "collapsed": false
   }
  },
  {
   "cell_type": "code",
   "execution_count": 5,
   "outputs": [
    {
     "name": "stdout",
     "output_type": "stream",
     "text": [
      "7 coppie a distanza 1\n",
      "6 coppie a distanza 3\n",
      "2 coppie a distanza 3\n"
     ]
    }
   ],
   "source": [
    "distanza1, distanza2, distanza3 = 0, 0, 0\n",
    "for coppia in array_coppie:\n",
    "    distanza = coppia[2]\n",
    "    if distanza == 1:\n",
    "        distanza1 += 1\n",
    "    elif distanza == 2:\n",
    "        distanza2 += 1\n",
    "    elif distanza == 3:\n",
    "        distanza3 += 1\n",
    "\n",
    "print(f'{distanza1} coppie a distanza 1')\n",
    "print(f'{distanza2} coppie a distanza 3')\n",
    "print(f'{distanza3} coppie a distanza 3')"
   ],
   "metadata": {
    "collapsed": false
   }
  },
  {
   "cell_type": "code",
   "execution_count": 10,
   "outputs": [],
   "source": [
    "def ordina_elementi(array_coppie): # ordina le parole di ogni coppia\n",
    "    n = len(array_coppie)\n",
    "\n",
    "    for i in range(n): # ordina parole array\n",
    "        p1, p2, num = array_coppie[i]\n",
    "        if p1 > p2:\n",
    "            array_coppie[i] = (p2, p1, num)\n",
    "\n",
    "    for i in range(n - 1): # ordina elementi array valutando prima e seconda parola\n",
    "        min_index = i\n",
    "        for j in range(i + 1, n):\n",
    "            if array_coppie[j][0] < array_coppie[min_index][0] or (array_coppie[j][0] == array_coppie[min_index][0] and array_coppie[j][1] < array_coppie[min_index][1]):\n",
    "                min_index = j\n",
    "\n",
    "        array_coppie[i], array_coppie[min_index] = array_coppie[min_index], array_coppie[i]\n",
    "\n",
    "    return array_coppie"
   ],
   "metadata": {
    "collapsed": false
   }
  },
  {
   "cell_type": "code",
   "execution_count": 11,
   "outputs": [
    {
     "name": "stdout",
     "output_type": "stream",
     "text": [
      "[('campa', 'capra', 1), ('campa', 'la', 2), ('campa', 'panca', 3), ('campa', 'sotto', 1), ('capra', 'crepa', 1), ('capra', 'la', 1), ('capra', 'panca', 2), ('capra', 'sotto', 2), ('crepa', 'la', 2), ('crepa', 'panca', 3), ('la', 'panca', 1), ('la', 'sopra', 1), ('la', 'sotto', 1), ('panca', 'sopra', 2), ('panca', 'sotto', 2)]\n"
     ]
    }
   ],
   "source": [
    "array_coppie_ordinate = ordina_elementi(array_coppie)\n",
    "print(array_coppie_ordinate)"
   ],
   "metadata": {
    "collapsed": false
   }
  },
  {
   "cell_type": "code",
   "execution_count": 8,
   "outputs": [],
   "source": [
    "# def ordina_coppie(array_coppie): # ordina l'array valutando prima parola e poi seconda\n",
    "#     n = len(array_coppie)\n",
    "#\n",
    "#     # for i in range(n): ridondante\n",
    "#     #     p1, p2, num = array_coppie[i]\n",
    "#     #     if p1 > p2:\n",
    "#     #         array_coppie[i] = (p2, p1, num)\n",
    "#\n",
    "#     for i in range(n - 1):\n",
    "#         min_index = i\n",
    "#         for j in range(i + 1, n):\n",
    "#             if array_coppie[j][0] < array_coppie[min_index][0] or (array_coppie[j][0] == array_coppie[min_index][0] and array_coppie[j][1] < array_coppie[min_index][1]):\n",
    "#                 min_index = j\n",
    "#\n",
    "#         array_coppie[i], array_coppie[min_index] = array_coppie[min_index], array_coppie[i]\n",
    "#\n",
    "#     return array_coppie"
   ],
   "metadata": {
    "collapsed": false
   }
  },
  {
   "cell_type": "code",
   "execution_count": 12,
   "outputs": [
    {
     "name": "stdout",
     "output_type": "stream",
     "text": [
      "(campa,capra) 1\n",
      "(campa,la) 2\n",
      "(campa,sotto) 1\n",
      "(capra,crepa) 1\n",
      "(capra,la) 1\n",
      "(capra,panca) 2\n",
      "(capra,sotto) 2\n",
      "(crepa,la) 2\n",
      "(la,panca) 1\n",
      "(la,sopra) 1\n",
      "(la,sotto) 1\n",
      "(panca,sopra) 2\n",
      "(panca,sotto) 2\n",
      "13\n"
     ]
    }
   ],
   "source": [
    "# array_ordinato = ordina_coppie(array_coppie)\n",
    "array_due = []\n",
    "for element in array_coppie_ordinate:\n",
    "    if element[2] < 3:\n",
    "        array_due.append(element)\n",
    "        print(\"(\"+str(element[0])+\",\"+str(element[1])+\") \"+str(element[2]))\n",
    "print(len(array_due))"
   ],
   "metadata": {
    "collapsed": false
   }
  },
  {
   "cell_type": "markdown",
   "source": [
    "grafo:\n",
    "**vertici** = tutte le parole **della frase**\n",
    "**lati** = le coppie entro la distanza limite (<=2)"
   ],
   "metadata": {
    "collapsed": false
   }
  },
  {
   "cell_type": "code",
   "execution_count": 9,
   "outputs": [],
   "source": [],
   "metadata": {
    "collapsed": false
   }
  }
 ],
 "metadata": {
  "kernelspec": {
   "display_name": "Python 3",
   "language": "python",
   "name": "python3"
  },
  "language_info": {
   "codemirror_mode": {
    "name": "ipython",
    "version": 2
   },
   "file_extension": ".py",
   "mimetype": "text/x-python",
   "name": "python",
   "nbconvert_exporter": "python",
   "pygments_lexer": "ipython2",
   "version": "2.7.6"
  }
 },
 "nbformat": 4,
 "nbformat_minor": 0
}
