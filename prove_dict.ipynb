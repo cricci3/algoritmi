{
 "cells": [
  {
   "cell_type": "code",
   "execution_count": 54,
   "metadata": {
    "collapsed": true
   },
   "outputs": [
    {
     "name": "stdout",
     "output_type": "stream",
     "text": [
      "['sopra', 'la', 'panca', 'la', 'capra', 'canta', 'sotto', 'la', 'panca', 'la', 'capra', 'crepa']\n"
     ]
    }
   ],
   "source": [
    "frase = \"sopra la panca la capra canta sotto la panca la capra crepa\"\n",
    "frase = frase.split()\n",
    "print(frase)"
   ]
  },
  {
   "cell_type": "code",
   "execution_count": 55,
   "outputs": [],
   "source": [
    "dizionario_coppie = {}"
   ],
   "metadata": {
    "collapsed": false
   }
  },
  {
   "cell_type": "code",
   "execution_count": 56,
   "outputs": [],
   "source": [
    "for i in range(len(frase)):\n",
    "    for j in range(i+1, len(frase)):\n",
    "        p1 = frase[i]\n",
    "        p2 = frase[j]\n",
    "        distanza = abs(i - j)\n",
    "        if str(p1) != str(p2):\n",
    "            if distanza <= 3:\n",
    "                # Check if the pair already exists in the dictionary\n",
    "                if not ((p1, p2) in dizionario_coppie.keys() or (p2, p1) in dizionario_coppie.keys()):\n",
    "                    dizionario_coppie[(p1, p2)] = distanza\n",
    "                # Update distance if the pair exists with a greater distance\n",
    "                else:\n",
    "                    if (p1, p2) in dizionario_coppie.keys() and dizionario_coppie[(p1, p2)] > distanza:\n",
    "                        dizionario_coppie[(p1, p2)] = distanza\n",
    "                    elif (p2, p1) in dizionario_coppie.keys() and dizionario_coppie[(p2, p1)] > distanza:\n",
    "                        dizionario_coppie[(p2, p1)] = distanza"
   ],
   "metadata": {
    "collapsed": false
   }
  },
  {
   "cell_type": "code",
   "execution_count": 57,
   "outputs": [
    {
     "name": "stdout",
     "output_type": "stream",
     "text": [
      "{('sopra', 'la'): 1, ('sopra', 'panca'): 2, ('la', 'panca'): 1, ('la', 'capra'): 1, ('panca', 'capra'): 2, ('panca', 'canta'): 3, ('la', 'canta'): 2, ('la', 'sotto'): 1, ('capra', 'canta'): 1, ('capra', 'sotto'): 2, ('canta', 'sotto'): 1, ('sotto', 'panca'): 2, ('panca', 'crepa'): 3, ('la', 'crepa'): 2, ('capra', 'crepa'): 1}\n"
     ]
    }
   ],
   "source": [
    "print(dizionario_coppie)"
   ],
   "metadata": {
    "collapsed": false
   }
  },
  {
   "cell_type": "code",
   "execution_count": 59,
   "outputs": [
    {
     "name": "stdout",
     "output_type": "stream",
     "text": [
      "7 6 2\n"
     ]
    }
   ],
   "source": [
    "distanza1, distanza2, distanza3 = 0, 0, 0\n",
    "\n",
    "for coppia in dizionario_coppie:\n",
    "    distanza = dizionario_coppie[coppia]\n",
    "    if distanza == 1:\n",
    "        distanza1 += 1\n",
    "    elif distanza == 2:\n",
    "        distanza2 += 1\n",
    "    elif distanza == 3:\n",
    "        distanza3 += 1\n",
    "\n",
    "print(distanza1, distanza2, distanza3)"
   ],
   "metadata": {
    "collapsed": false
   }
  },
  {
   "cell_type": "code",
   "execution_count": 60,
   "outputs": [
    {
     "name": "stdout",
     "output_type": "stream",
     "text": [
      "7 coppie a distanza 1\n",
      "6 coppie a distanza 3\n",
      "2 coppie a distanza 3\n"
     ]
    }
   ],
   "source": [
    "print(f'{distanza1} coppie a distanza 1')\n",
    "print(f'{distanza2} coppie a distanza 3')\n",
    "print(f'{distanza3} coppie a distanza 3')"
   ],
   "metadata": {
    "collapsed": false
   }
  },
  {
   "cell_type": "code",
   "execution_count": null,
   "outputs": [],
   "source": [],
   "metadata": {
    "collapsed": false
   }
  }
 ],
 "metadata": {
  "kernelspec": {
   "display_name": "Python 3",
   "language": "python",
   "name": "python3"
  },
  "language_info": {
   "codemirror_mode": {
    "name": "ipython",
    "version": 2
   },
   "file_extension": ".py",
   "mimetype": "text/x-python",
   "name": "python",
   "nbconvert_exporter": "python",
   "pygments_lexer": "ipython2",
   "version": "2.7.6"
  }
 },
 "nbformat": 4,
 "nbformat_minor": 0
}
